{
 "cells": [
  {
   "cell_type": "code",
   "execution_count": 1,
   "metadata": {
    "colab": {
     "base_uri": "https://localhost:8080/"
    },
    "id": "8FeO0CTHm5_t",
    "outputId": "f1494a16-d69d-41a4-b1c3-dac8712f6005",
    "tags": []
   },
   "outputs": [
    {
     "data": {
      "text/plain": [
       "False"
      ]
     },
     "execution_count": 1,
     "metadata": {},
     "output_type": "execute_result"
    }
   ],
   "source": [
    "import torch as T\n",
    "T.cuda.is_available()"
   ]
  },
  {
   "cell_type": "code",
   "execution_count": 2,
   "metadata": {
    "colab": {
     "base_uri": "https://localhost:8080/"
    },
    "id": "7NqTsLiK8wuH",
    "outputId": "23fddcc5-adc7-4a77-c320-495b7e5b2595",
    "tags": []
   },
   "outputs": [
    {
     "name": "stdout",
     "output_type": "stream",
     "text": [
      "amd64\r\n"
     ]
    }
   ],
   "source": [
    "!dpkg --print-architecture"
   ]
  },
  {
   "cell_type": "code",
   "execution_count": 3,
   "metadata": {
    "colab": {
     "base_uri": "https://localhost:8080/"
    },
    "id": "F19DtgKW92y9",
    "outputId": "96c191e4-f24a-4d93-b723-9f35a15b0700",
    "tags": []
   },
   "outputs": [
    {
     "name": "stdout",
     "output_type": "stream",
     "text": [
      "cartpole.png\t\t\t  ffmpeg-git-amd64-static.tar.xz.3\r\n",
      "data\t\t\t\t  output.mp4\r\n",
      "downsample.sh\t\t\t  ppo\r\n",
      "extracted.jpg\t\t\t  Untitled10.ipynb\r\n",
      "ffmpeg-git-20230621-amd64-static  v2.3.1.tar.gz\r\n",
      "ffmpeg-git-amd64-static.tar.xz\t  vmaf-2.3.1\r\n",
      "ffmpeg-git-amd64-static.tar.xz.1  WUzgd7C1pWA.mp4\r\n",
      "ffmpeg-git-amd64-static.tar.xz.2\r\n"
     ]
    }
   ],
   "source": [
    "!ls"
   ]
  },
  {
   "cell_type": "code",
   "execution_count": 4,
   "metadata": {
    "colab": {
     "base_uri": "https://localhost:8080/"
    },
    "id": "Hr17uYPX85vm",
    "outputId": "bb6051ff-e154-4539-f934-be4e3d28b775",
    "tags": []
   },
   "outputs": [
    {
     "name": "stdout",
     "output_type": "stream",
     "text": [
      "--2023-06-30 15:32:35--  https://johnvansickle.com/ffmpeg/builds/ffmpeg-git-amd64-static.tar.xz\n",
      "Loaded CA certificate '/etc/ssl/certs/ca-certificates.crt'\n",
      "Resolving johnvansickle.com (johnvansickle.com)... 107.180.57.212\n",
      "Connecting to johnvansickle.com (johnvansickle.com)|107.180.57.212|:443... connected.\n",
      "HTTP request sent, awaiting response... 200 OK\n",
      "Length: 41227396 (39M) [application/x-xz]\n",
      "Saving to: ‘ffmpeg-git-amd64-static.tar.xz.4’\n",
      "\n",
      "ffmpeg-git-amd64-st 100%[===================>]  39,32M  6,34MB/s    in 7,7s    \n",
      "\n",
      "2023-06-30 15:32:43 (5,10 MB/s) - ‘ffmpeg-git-amd64-static.tar.xz.4’ saved [41227396/41227396]\n",
      "\n"
     ]
    }
   ],
   "source": [
    "# Download ffmpeg\n",
    "\n",
    "#!wget https://johnvansickle.com/ffmpeg/builds/ffmpeg-git-amd64-static.tar.xz\n",
    "#!tar -xf ffmpeg-git-amd64-static.tar.xz"
   ]
  },
  {
   "cell_type": "code",
   "execution_count": 5,
   "metadata": {
    "id": "LcmKQgf4Fbw2",
    "tags": []
   },
   "outputs": [],
   "source": [
    "import torch\n",
    "import torch.nn as nn\n",
    "import torchvision.models as models\n",
    "from torch.autograd import Variable\n",
    "from skimage.metrics import structural_similarity\n",
    "import imageio.v3 as iio\n"
   ]
  },
  {
   "cell_type": "code",
   "execution_count": 6,
   "metadata": {
    "colab": {
     "base_uri": "https://localhost:8080/"
    },
    "id": "71ZpaFgEFwQk",
    "outputId": "59e7e39c-6b4e-4fab-ad2e-e86116582f6c",
    "tags": []
   },
   "outputs": [
    {
     "name": "stdout",
     "output_type": "stream",
     "text": [
      "Using downloaded and verified file: ./WUzgd7C1pWA.mp4\n"
     ]
    }
   ],
   "source": [
    "from torchvision.datasets.utils import download_url\n",
    "\n",
    "download_url(\n",
    "    \"https://github.com/pytorch/vision/blob/main/test/assets/videos/WUzgd7C1pWA.mp4?raw=true\",\n",
    "    \".\",\n",
    "    \"WUzgd7C1pWA.mp4\"\n",
    ")\n",
    "video_path = \"./WUzgd7C1pWA.mp4\""
   ]
  },
  {
   "cell_type": "code",
   "execution_count": 7,
   "metadata": {
    "colab": {
     "base_uri": "https://localhost:8080/"
    },
    "id": "vo1dwfHa9zvy",
    "outputId": "01c03960-437e-4abc-93f9-8da0fd03e96a",
    "tags": []
   },
   "outputs": [
    {
     "name": "stdout",
     "output_type": "stream",
     "text": [
      "ffmpeg version n6.0 Copyright (c) 2000-2023 the FFmpeg developers\n",
      "  built with gcc 12.2.1 (GCC) 20230201\n",
      "  configuration: --prefix=/usr --disable-debug --disable-static --disable-stripping --enable-amf --enable-avisynth --enable-cuda-llvm --enable-lto --enable-fontconfig --enable-gmp --enable-gnutls --enable-gpl --enable-ladspa --enable-libaom --enable-libass --enable-libbluray --enable-libbs2b --enable-libdav1d --enable-libdrm --enable-libfreetype --enable-libfribidi --enable-libgsm --enable-libiec61883 --enable-libjack --enable-libjxl --enable-libmfx --enable-libmodplug --enable-libmp3lame --enable-libopencore_amrnb --enable-libopencore_amrwb --enable-libopenjpeg --enable-libopenmpt --enable-libopus --enable-libpulse --enable-librav1e --enable-librsvg --enable-libsoxr --enable-libspeex --enable-libsrt --enable-libssh --enable-libsvtav1 --enable-libtheora --enable-libv4l2 --enable-libvidstab --enable-libvmaf --enable-libvorbis --enable-libvpx --enable-libwebp --enable-libx264 --enable-libx265 --enable-libxcb --enable-libxml2 --enable-libxvid --enable-libzimg --enable-nvdec --enable-nvenc --enable-opencl --enable-opengl --enable-shared --enable-version3 --enable-vulkan\n",
      "  libavutil      58.  2.100 / 58.  2.100\n",
      "  libavcodec     60.  3.100 / 60.  3.100\n",
      "  libavformat    60.  3.100 / 60.  3.100\n",
      "  libavdevice    60.  1.100 / 60.  1.100\n",
      "  libavfilter     9.  3.100 /  9.  3.100\n",
      "  libswscale      7.  1.100 /  7.  1.100\n",
      "  libswresample   4. 10.100 /  4. 10.100\n",
      "  libpostproc    57.  1.100 / 57.  1.100\n",
      "Input #0, mov,mp4,m4a,3gp,3g2,mj2, from 'WUzgd7C1pWA.mp4':\n",
      "  Metadata:\n",
      "    major_brand     : isom\n",
      "    minor_version   : 512\n",
      "    compatible_brands: isomiso2avc1mp41\n",
      "    encoder         : Lavf56.25.101\n",
      "  Duration: 00:00:10.91, start: 0.000000, bitrate: 652 kb/s\n",
      "  Stream #0:0[0x1](und): Video: h264 (High) (avc1 / 0x31637661), yuv420p(progressive), 340x256 [SAR 1:1 DAR 85:64], 562 kb/s, 29.97 fps, 29.97 tbr, 30k tbn (default)\n",
      "    Metadata:\n",
      "      handler_name    : VideoHandler\n",
      "      vendor_id       : [0][0][0][0]\n",
      "  Stream #0:1[0x2](eng): Audio: aac (LC) (mp4a / 0x6134706D), 48000 Hz, mono, fltp, 80 kb/s (default)\n",
      "    Metadata:\n",
      "      handler_name    : SoundHandler\n",
      "      vendor_id       : [0][0][0][0]\n",
      "Stream mapping:\n",
      "  Stream #0:0 -> #0:0 (h264 (native) -> h264 (libx264))\n",
      "  Stream #0:1 -> #0:1 (aac (native) -> aac (native))\n",
      "Press [q] to stop, [?] for help\n",
      "\u001b[1;36m[libx264 @ 0x559619c3b580] \u001b[0musing SAR=1/1\n",
      "\u001b[1;36m[libx264 @ 0x559619c3b580] \u001b[0musing cpu capabilities: MMX2 SSE2Fast SSSE3 SSE4.2 AVX FMA3 BMI2 AVX2\n",
      "\u001b[1;36m[libx264 @ 0x559619c3b580] \u001b[0mprofile High, level 1.3, 4:2:0, 8-bit\n",
      "\u001b[1;36m[libx264 @ 0x559619c3b580] \u001b[0m264 - core 164 r3095 baee400 - H.264/MPEG-4 AVC codec - Copyleft 2003-2022 - http://www.videolan.org/x264.html - options: cabac=1 ref=3 deblock=1:0:0 analyse=0x3:0x113 me=hex subme=7 psy=1 psy_rd=1.00:0.00 mixed_ref=1 me_range=16 chroma_me=1 trellis=1 8x8dct=1 cqm=0 deadzone=21,11 fast_pskip=1 chroma_qp_offset=-2 threads=8 lookahead_threads=1 sliced_threads=0 nr=0 decimate=1 interlaced=0 bluray_compat=0 constrained_intra=0 bframes=3 b_pyramid=2 b_adapt=1 b_bias=0 direct=1 weightb=1 open_gop=0 weightp=2 keyint=250 keyint_min=25 scenecut=40 intra_refresh=0 rc_lookahead=40 rc=crf mbtree=1 crf=35.0 qcomp=0.60 qpmin=0 qpmax=69 qpstep=4 ip_ratio=1.40 aq=1:1.00\n",
      "Output #0, mp4, to 'output.mp4':\n",
      "  Metadata:\n",
      "    major_brand     : isom\n",
      "    minor_version   : 512\n",
      "    compatible_brands: isomiso2avc1mp41\n",
      "    encoder         : Lavf60.3.100\n",
      "  Stream #0:0(und): Video: h264 (avc1 / 0x31637661), yuv420p(progressive), 340x256 [SAR 1:1 DAR 85:64], q=2-31, 29.97 fps, 30k tbn (default)\n",
      "    Metadata:\n",
      "      handler_name    : VideoHandler\n",
      "      vendor_id       : [0][0][0][0]\n",
      "      encoder         : Lavc60.3.100 libx264\n",
      "    Side data:\n",
      "      cpb: bitrate max/min/avg: 0/0/0 buffer size: 0 vbv_delay: N/A\n",
      "  Stream #0:1(eng): Audio: aac (LC) (mp4a / 0x6134706D), 48000 Hz, mono, fltp, 69 kb/s (default)\n",
      "    Metadata:\n",
      "      handler_name    : SoundHandler\n",
      "      vendor_id       : [0][0][0][0]\n",
      "      encoder         : Lavc60.3.100 aac\n",
      "frame=  327 fps=0.0 q=-1.0 Lsize=     292kB time=00:00:10.88 bitrate= 219.6kbits/s speed=22.7x    \n",
      "video:187kB audio:92kB subtitle:0kB other streams:0kB global headers:0kB muxing overhead: 4.604194%\n",
      "\u001b[1;36m[libx264 @ 0x559619c3b580] \u001b[0mframe I:2     Avg QP:36.30  size:  2520\n",
      "\u001b[1;36m[libx264 @ 0x559619c3b580] \u001b[0mframe P:138   Avg QP:38.47  size:   933\n",
      "\u001b[1;36m[libx264 @ 0x559619c3b580] \u001b[0mframe B:187   Avg QP:42.01  size:   302\n",
      "\u001b[1;36m[libx264 @ 0x559619c3b580] \u001b[0mconsecutive B-frames: 13.5% 26.3% 13.8% 46.5%\n",
      "\u001b[1;36m[libx264 @ 0x559619c3b580] \u001b[0mmb I  I16..4: 11.6% 75.9% 12.5%\n",
      "\u001b[1;36m[libx264 @ 0x559619c3b580] \u001b[0mmb P  I16..4:  4.5%  7.5%  0.6%  P16..4: 46.3%  9.0%  3.1%  0.0%  0.0%    skip:28.9%\n",
      "\u001b[1;36m[libx264 @ 0x559619c3b580] \u001b[0mmb B  I16..4:  0.2%  0.5%  0.0%  B16..8: 38.3%  2.1%  0.1%  direct: 0.5%  skip:58.3%  L0:42.0% L1:56.7% BI: 1.2%\n",
      "\u001b[1;36m[libx264 @ 0x559619c3b580] \u001b[0m8x8 transform intra:61.2% inter:82.5%\n",
      "\u001b[1;36m[libx264 @ 0x559619c3b580] \u001b[0mcoded y,uvDC,uvAC intra: 29.4% 34.6% 3.2% inter: 7.1% 5.4% 0.1%\n",
      "\u001b[1;36m[libx264 @ 0x559619c3b580] \u001b[0mi16 v,h,dc,p: 18% 44% 12% 27%\n",
      "\u001b[1;36m[libx264 @ 0x559619c3b580] \u001b[0mi8 v,h,dc,ddl,ddr,vr,hd,vl,hu: 14% 23% 35%  3%  5%  6%  5%  4%  5%\n",
      "\u001b[1;36m[libx264 @ 0x559619c3b580] \u001b[0mi4 v,h,dc,ddl,ddr,vr,hd,vl,hu: 22% 24% 26%  4%  5%  7%  5%  4%  4%\n",
      "\u001b[1;36m[libx264 @ 0x559619c3b580] \u001b[0mi8c dc,h,v,p: 78% 13%  7%  2%\n",
      "\u001b[1;36m[libx264 @ 0x559619c3b580] \u001b[0mWeighted P-Frames: Y:5.8% UV:0.7%\n",
      "\u001b[1;36m[libx264 @ 0x559619c3b580] \u001b[0mref P L0: 73.0% 13.5% 10.1%  3.2%  0.1%\n",
      "\u001b[1;36m[libx264 @ 0x559619c3b580] \u001b[0mref B L0: 92.3%  6.7%  1.0%\n",
      "\u001b[1;36m[libx264 @ 0x559619c3b580] \u001b[0mref B L1: 97.9%  2.1%\n",
      "\u001b[1;36m[libx264 @ 0x559619c3b580] \u001b[0mkb/s:139.56\n",
      "\u001b[1;36m[aac @ 0x559619c6c3c0] \u001b[0mQavg: 124.327\n"
     ]
    }
   ],
   "source": [
    "!rm output.mp4\n",
    "!ffmpeg -i WUzgd7C1pWA.mp4 -vcodec libx264 -crf 35 -acodec aac output.mp4 > /dev/null\n",
    "#!ffmpeg -i WUzgd7C1pWA.mp4 -b:v 2M output.mp4"
   ]
  },
  {
   "cell_type": "code",
   "execution_count": 8,
   "metadata": {
    "colab": {
     "base_uri": "https://localhost:8080/"
    },
    "id": "eUtk7m3p7MVz",
    "outputId": "f2d5c8ea-9415-40fe-bb1e-6fe06df4b2ee",
    "tags": []
   },
   "outputs": [
    {
     "name": "stdout",
     "output_type": "stream",
     "text": [
      "ffmpeg version N-66244-g468615f204-static https://johnvansickle.com/ffmpeg/  Copyright (c) 2000-2023 the FFmpeg developers\n",
      "  built with gcc 8 (Debian 8.3.0-6)\n",
      "  configuration: --enable-gpl --enable-version3 --enable-static --disable-debug --disable-ffplay --disable-indev=sndio --disable-outdev=sndio --cc=gcc --enable-fontconfig --enable-frei0r --enable-gnutls --enable-gmp --enable-libgme --enable-gray --enable-libaom --enable-libfribidi --enable-libass --enable-libvmaf --enable-libfreetype --enable-libmp3lame --enable-libopencore-amrnb --enable-libopencore-amrwb --enable-libopenjpeg --enable-librubberband --enable-libsoxr --enable-libspeex --enable-libsrt --enable-libvorbis --enable-libopus --enable-libtheora --enable-libvidstab --enable-libvo-amrwbenc --enable-libvpx --enable-libwebp --enable-libx264 --enable-libx265 --enable-libxml2 --enable-libdav1d --enable-libxvid --enable-libzvbi --enable-libzimg\n",
      "  libavutil      58. 13.101 / 58. 13.101\n",
      "  libavcodec     60. 21.100 / 60. 21.100\n",
      "  libavformat    60.  9.100 / 60.  9.100\n",
      "  libavdevice    60.  2.100 / 60.  2.100\n",
      "  libavfilter     9.  8.102 /  9.  8.102\n",
      "  libswscale      7.  3.100 /  7.  3.100\n",
      "  libswresample   4. 11.100 /  4. 11.100\n",
      "  libpostproc    57.  2.100 / 57.  2.100\n",
      "Input #0, mov,mp4,m4a,3gp,3g2,mj2, from 'WUzgd7C1pWA.mp4':\n",
      "  Metadata:\n",
      "    major_brand     : isom\n",
      "    minor_version   : 512\n",
      "    compatible_brands: isomiso2avc1mp41\n",
      "    encoder         : Lavf56.25.101\n",
      "  Duration: 00:00:10.91, start: 0.000000, bitrate: 652 kb/s\n",
      "  Stream #0:0[0x1](und): Video: h264 (High) (avc1 / 0x31637661), yuv420p(progressive), 340x256 [SAR 1:1 DAR 85:64], 562 kb/s, 29.97 fps, 29.97 tbr, 30k tbn (default)\n",
      "    Metadata:\n",
      "      handler_name    : VideoHandler\n",
      "      vendor_id       : [0][0][0][0]\n",
      "  Stream #0:1[0x2](eng): Audio: aac (LC) (mp4a / 0x6134706D), 48000 Hz, mono, fltp, 80 kb/s (default)\n",
      "    Metadata:\n",
      "      handler_name    : SoundHandler\n",
      "      vendor_id       : [0][0][0][0]\n",
      "Input #1, mov,mp4,m4a,3gp,3g2,mj2, from 'output.mp4':\n",
      "  Metadata:\n",
      "    major_brand     : isom\n",
      "    minor_version   : 512\n",
      "    compatible_brands: isomiso2avc1mp41\n",
      "    encoder         : Lavf60.3.100\n",
      "  Duration: 00:00:10.91, start: 0.000000, bitrate: 219 kb/s\n",
      "  Stream #1:0[0x1](und): Video: h264 (High) (avc1 / 0x31637661), yuv420p(progressive), 340x256 [SAR 1:1 DAR 85:64], 140 kb/s, 29.97 fps, 29.97 tbr, 30k tbn (default)\n",
      "    Metadata:\n",
      "      handler_name    : VideoHandler\n",
      "      vendor_id       : [0][0][0][0]\n",
      "      encoder         : Lavc60.3.100 libx264\n",
      "  Stream #1:1[0x2](eng): Audio: aac (LC) (mp4a / 0x6134706D), 48000 Hz, mono, fltp, 69 kb/s (default)\n",
      "    Metadata:\n",
      "      handler_name    : SoundHandler\n",
      "      vendor_id       : [0][0][0][0]\n",
      "Stream mapping:\n",
      "  Stream #0:0 (h264) -> libvmaf (graph 0)\n",
      "  Stream #1:0 (h264) -> libvmaf (graph 0)\n",
      "  libvmaf:default (graph 0) -> Stream #0:0 (wrapped_avframe)\n",
      "  Stream #0:1 -> #0:1 (aac (native) -> pcm_s16le (native))\n",
      "Press [q] to stop, [?] for help\n",
      "Output #0, null, to 'pipe:':\n",
      "  Metadata:\n",
      "    major_brand     : isom\n",
      "    minor_version   : 512\n",
      "    compatible_brands: isomiso2avc1mp41\n",
      "    encoder         : Lavf60.9.100\n",
      "  Stream #0:0: Video: wrapped_avframe, yuv420p(progressive), 340x256 [SAR 1:1 DAR 85:64], q=2-31, 200 kb/s, 29.97 fps, 29.97 tbn\n",
      "    Metadata:\n",
      "      encoder         : Lavc60.21.100 wrapped_avframe\n",
      "  Stream #0:1(eng): Audio: pcm_s16le, 48000 Hz, mono, s16, 768 kb/s (default)\n",
      "    Metadata:\n",
      "      handler_name    : SoundHandler\n",
      "      vendor_id       : [0][0][0][0]\n",
      "      encoder         : Lavc60.21.100 pcm_s16le\n",
      "\u001b[1;35m[out#0/null @ 0x772c3c0] \u001b[0mvideo:153kB audio:1022kB subtitle:0kB other streams:0kB global headers:0kB muxing overhead: unknown\n",
      "frame=  327 fps=180 q=-0.0 Lsize=N/A time=00:00:10.88 bitrate=N/A speed=5.98x    \n",
      "\u001b[1;32m[Parsed_libvmaf_0 @ 0x5b7ec80] \u001b[0mVMAF score: 81.555420\n"
     ]
    }
   ],
   "source": [
    "!./ffmpeg-git-20230621-amd64-static/ffmpeg -i WUzgd7C1pWA.mp4 -i output.mp4 -lavfi libvmaf -f null -"
   ]
  },
  {
   "cell_type": "code",
   "execution_count": 9,
   "metadata": {
    "id": "IDXqFCeJIP2q",
    "tags": []
   },
   "outputs": [],
   "source": [
    "import cv2\n",
    "import subprocess\n",
    "def compare(ImageAPath, ImageBPath):\n",
    "    try:\n",
    "        cmd = \" \".join([\"./ffmpeg-git-20230621-amd64-static/ffmpeg -i\", ImageAPath, \"-i\", ImageBPath, \"-lavfi libvmaf -f null -\"])\n",
    "        x = subprocess.getoutput(cmd);\n",
    "        return float(x.split()[-1])\n",
    "    except:\n",
    "        return 0"
   ]
  },
  {
   "cell_type": "code",
   "execution_count": 10,
   "metadata": {
    "colab": {
     "base_uri": "https://localhost:8080/"
    },
    "id": "PCH_WHlCIbSB",
    "outputId": "e14395f1-3863-4ed9-abdc-98c77a82596e",
    "tags": []
   },
   "outputs": [
    {
     "data": {
      "text/plain": [
       "81.55542"
      ]
     },
     "execution_count": 10,
     "metadata": {},
     "output_type": "execute_result"
    }
   ],
   "source": [
    "compare(\"./WUzgd7C1pWA.mp4\", \"./output.mp4\")"
   ]
  },
  {
   "cell_type": "code",
   "execution_count": 11,
   "metadata": {
    "colab": {
     "base_uri": "https://localhost:8080/"
    },
    "id": "09kv90GuOYA3",
    "outputId": "37da85b0-ceb1-4fd1-e9db-c6da8c11836c",
    "tags": []
   },
   "outputs": [
    {
     "name": "stderr",
     "output_type": "stream",
     "text": [
      "/home/mudiko/.local/lib/python3.11/site-packages/torchvision/models/_utils.py:208: UserWarning: The parameter 'pretrained' is deprecated since 0.13 and may be removed in the future, please use 'weights' instead.\n",
      "  warnings.warn(\n",
      "/home/mudiko/.local/lib/python3.11/site-packages/torchvision/models/_utils.py:223: UserWarning: Arguments other than a weight enum or `None` for 'weights' are deprecated since 0.13 and may be removed in the future. The current behavior is equivalent to passing `weights=ResNet50_Weights.IMAGENET1K_V1`. You can also use `weights=ResNet50_Weights.DEFAULT` to get the most up-to-date weights.\n",
      "  warnings.warn(msg)\n"
     ]
    }
   ],
   "source": [
    "#RESNET50 can be replaced by something faster and better\n",
    "\n",
    "resnet50 = models.resnet50(pretrained=True)\n",
    "modules=list(resnet50.children())[:-1]\n",
    "resnet50 = nn.Sequential(*modules)\n",
    "\n",
    "# Set to false to stop training image part\n",
    "for p in resnet50.parameters():\n",
    "    p.requires_grad = True"
   ]
  },
  {
   "cell_type": "code",
   "execution_count": 12,
   "metadata": {
    "colab": {
     "base_uri": "https://localhost:8080/"
    },
    "id": "L80JDPWFIgSa",
    "outputId": "98aa6e12-42a7-41a2-9c98-f929b68ee7c2",
    "tags": []
   },
   "outputs": [
    {
     "name": "stdout",
     "output_type": "stream",
     "text": [
      "Defaulting to user installation because normal site-packages is not writeable\n",
      "Requirement already satisfied: ffmpeg-bitrate-stats in /home/mudiko/.local/lib/python3.11/site-packages (0.4.1)\n"
     ]
    }
   ],
   "source": [
    "!pip install ffmpeg-bitrate-stats\n",
    "from ffmpeg_bitrate_stats import BitrateStats\n",
    "\n",
    "import os\n",
    "import gym\n",
    "from gym import spaces\n",
    "import numpy as np\n",
    "\n",
    "import subprocess\n",
    "\n",
    "\n",
    "class VideoEncodingEnvironment(gym.Env):\n",
    "    def __init__(self, target_video):\n",
    "        super(VideoEncodingEnvironment, self).__init__()\n",
    "\n",
    "        self.target_video = target_video  # Target video representation\n",
    "        #self.max_steps = max_steps  # Maximum number of steps for encoding\n",
    "\n",
    "        self.current_step = 0  # Current step in the encoding process\n",
    "        \n",
    "        self.size = os.stat(target_video).st_size  # Current video representation\n",
    "        self.initial_size = self.size\n",
    "        \n",
    "        ffbs = BitrateStats(target_video)\n",
    "        ffbs.calculate_statistics()\n",
    "\n",
    "        self.create_embedding()\n",
    "\n",
    "        self.bitrate = ffbs.avg_bitrate\n",
    "\n",
    "        self.quality = 100\n",
    "        \n",
    "        self.reward = 0\n",
    "\n",
    "\n",
    "\n",
    "    def step(self, action):\n",
    "        # Update video representation based on the chosen action\n",
    "        self.bitrate = action  # Simplified representation; adjust encoding based on actual requirements\n",
    "\n",
    "        # Update step count\n",
    "        self.current_step += 1\n",
    "\n",
    "        # Calculate quality\n",
    "        os.remove(\"./output.mp4\") if os.path.exists(\"./output.mp4\") else None\n",
    "        cmd = \" \".join([\"ffmpeg -i\", self.target_video, \"-b:v\", str(int(action)), \"./output.mp4\", \"-hide_banner\", \"-loglevel error\"])\n",
    "        subprocess.run(cmd, shell = True, stdout = subprocess.DEVNULL);\n",
    "\n",
    "        self.quality = compare(self.target_video, \"./output.mp4\")\n",
    "        print(\"Quality:\", self.quality)\n",
    "\n",
    "        # Update size\n",
    "        self.size = os.stat(\"./output.mp4\").st_size\n",
    "\n",
    "        state = np.array([[self.bitrate, self.quality, self.size]])\n",
    "        state = np.concatenate((state, self.embed.reshape((1,-1)).detach().numpy()), axis = 1)\n",
    "\n",
    "        # Reward\n",
    "\n",
    "        new_reward = 100 - abs(self.quality - 85) + ((1 - (self.size / self.initial_size)) * 5)\n",
    "        \n",
    "        self.reward = new_reward + (0.9 * self.reward)\n",
    "\n",
    "        return state, self.reward, self.current_step > 2, \"\"\n",
    "\n",
    "    def create_embedding(self):\n",
    "        #Create embedding for a single image\n",
    "        from PIL import Image\n",
    "        #Extract the first frame\n",
    "        #Can be possible to do more efficiently without iio.imiter\n",
    "        iio.imwrite(\"extracted.jpg\", list(iio.imiter(self.target_video))[0])\n",
    "        import torchvision.transforms as transforms\n",
    "        transform = transforms.Compose([transforms.PILToTensor()])\n",
    "        img = Image.open(\"extracted.jpg\")\n",
    "        tensor = transform(img)\n",
    "        tensor = tensor.unsqueeze(0).float()\n",
    "        self.embed = resnet50(tensor).reshape(-1)\n",
    "\n",
    "    def reset(self, target_video):\n",
    "        self.target_video = target_video\n",
    "        self.current_step = 0  # Current step in the encoding process\n",
    "        self.reward = 0\n",
    "        self.size = os.stat(self.target_video).st_size  # Current video representation\n",
    "        self.initial_size = self.size\n",
    "\n",
    "\n",
    "        ffbs = BitrateStats(self.target_video)\n",
    "        ffbs.calculate_statistics()\n",
    "        self.bitrate = ffbs.avg_bitrate\n",
    "\n",
    "        self.quality = 100\n",
    "\n",
    "        self.create_embedding()\n",
    "        state = np.array([[self.bitrate, self.quality, self.size]])\n",
    "        state = np.concatenate((state, self.embed.reshape((1,-1)).detach().numpy()), axis = 1)\n",
    "\n",
    "        return state"
   ]
  },
  {
   "cell_type": "code",
   "execution_count": 13,
   "metadata": {
    "colab": {
     "base_uri": "https://localhost:8080/"
    },
    "id": "-NBf10i7MoqS",
    "outputId": "d48cd462-b77c-4584-f835-fe3bac015de8",
    "tags": []
   },
   "outputs": [],
   "source": [
    "env = VideoEncodingEnvironment(\"./WUzgd7C1pWA.mp4\")"
   ]
  },
  {
   "cell_type": "code",
   "execution_count": 14,
   "metadata": {
    "colab": {
     "base_uri": "https://localhost:8080/"
    },
    "id": "ZYMHfAMkQTql",
    "outputId": "21d49f84-75de-4ad1-c82a-5c05807854b5",
    "tags": []
   },
   "outputs": [
    {
     "name": "stdout",
     "output_type": "stream",
     "text": [
      "mkdir: cannot create directory ‘ppo’: File exists\r\n"
     ]
    }
   ],
   "source": [
    "%mkdir ppo\n",
    "import os\n",
    "import numpy as np\n",
    "import torch as T\n",
    "import torch.nn as nn\n",
    "import torch.optim as optim\n",
    "from torch.distributions.normal import Normal\n",
    "\n",
    "class PPOMemory:\n",
    "    def __init__(self, batch_size):\n",
    "        self.states = []\n",
    "        self.probs = []\n",
    "        self.vals = []\n",
    "        self.actions = []\n",
    "        self.rewards = []\n",
    "        self.dones = []\n",
    "\n",
    "        self.batch_size = batch_size\n",
    "\n",
    "    def generate_batches(self):\n",
    "        n_states = len(self.states)\n",
    "        batch_start = np.arange(0, n_states, self.batch_size)\n",
    "        indices = np.arange(n_states, dtype=np.int64)\n",
    "        np.random.shuffle(indices)\n",
    "        batches = [indices[i:i+self.batch_size] for i in batch_start]\n",
    "\n",
    "        return np.array(self.states),\\\n",
    "                np.array(self.actions),\\\n",
    "                np.array(self.probs),\\\n",
    "                np.array(self.vals),\\\n",
    "                np.array(self.rewards),\\\n",
    "                np.array(self.dones),\\\n",
    "                batches\n",
    "\n",
    "    def store_memory(self, state, action, probs, vals, reward, done):\n",
    "        self.states.append(state)\n",
    "        self.actions.append(action)\n",
    "        self.probs.append(probs)\n",
    "        self.vals.append(vals)\n",
    "        self.rewards.append(reward)\n",
    "        self.dones.append(done)\n",
    "\n",
    "    def clear_memory(self):\n",
    "        self.states = []\n",
    "        self.probs = []\n",
    "        self.actions = []\n",
    "        self.rewards = []\n",
    "        self.dones = []\n",
    "        self.vals = []\n",
    "\n",
    "class ActorNetwork(nn.Module):\n",
    "    def __init__(self, n_actions, input_dims, alpha,\n",
    "            fc1_dims=256, fc2_dims=256, chkpt_dir='ppo'):\n",
    "        super(ActorNetwork, self).__init__()\n",
    "\n",
    "        self.checkpoint_file = os.path.join(chkpt_dir, 'actor_torch_ppo')\n",
    "        self.actor = nn.Sequential(\n",
    "                nn.Linear(input_dims, fc1_dims),\n",
    "                nn.ReLU(),\n",
    "                nn.Linear(fc1_dims, fc2_dims),\n",
    "                nn.ReLU(),\n",
    "                nn.Linear(fc2_dims, 2)\n",
    "        )\n",
    "\n",
    "        self.optimizer = optim.Adam(self.parameters(), lr=alpha)\n",
    "        self.device = T.device('cuda:0' if T.cuda.is_available() else 'cpu')\n",
    "        self.to(self.device)\n",
    "\n",
    "    def forward(self, state):\n",
    "        dist = self.actor(state).reshape(-1)\n",
    "        dist = torch.abs(dist)\n",
    "        \n",
    "        dist = Normal(dist[0] , dist[1] / 10)\n",
    "\n",
    "        return dist\n",
    "\n",
    "    def save_checkpoint(self):\n",
    "        T.save(self.state_dict(), self.checkpoint_file)\n",
    "\n",
    "    def load_checkpoint(self):\n",
    "        self.load_state_dict(T.load(self.checkpoint_file))\n",
    "\n",
    "class CriticNetwork(nn.Module):\n",
    "    def __init__(self, input_dims, alpha, fc1_dims=256, fc2_dims=256,\n",
    "            chkpt_dir='ppo'):\n",
    "        super(CriticNetwork, self).__init__()\n",
    "\n",
    "        self.checkpoint_file = os.path.join(chkpt_dir, 'critic_torch_ppo')\n",
    "        self.critic = nn.Sequential(\n",
    "                nn.Linear(input_dims, fc1_dims),\n",
    "                nn.ReLU(),\n",
    "                nn.Linear(fc1_dims, fc2_dims),\n",
    "                nn.ReLU(),\n",
    "                nn.Linear(fc2_dims, 1)\n",
    "        )\n",
    "\n",
    "        self.optimizer = optim.Adam(self.parameters(), lr=alpha)\n",
    "        self.device = T.device('cuda:0' if T.cuda.is_available() else 'cpu')\n",
    "        self.to(self.device)\n",
    "\n",
    "    def forward(self, state):\n",
    "        value = self.critic(state)\n",
    "\n",
    "        return value\n",
    "\n",
    "    def save_checkpoint(self):\n",
    "        T.save(self.state_dict(), self.checkpoint_file)\n",
    "\n",
    "    def load_checkpoint(self):\n",
    "        self.load_state_dict(T.load(self.checkpoint_file))\n",
    "\n",
    "class Agent:\n",
    "    def __init__(self, n_actions, input_dims, gamma=0.99, alpha=0.0003, gae_lambda=0.95,\n",
    "            policy_clip=0.1, batch_size=64, n_epochs=10):\n",
    "        self.gamma = gamma\n",
    "        self.policy_clip = policy_clip\n",
    "        self.n_epochs = n_epochs\n",
    "        self.gae_lambda = gae_lambda\n",
    "\n",
    "        self.actor = ActorNetwork(n_actions, input_dims, alpha)\n",
    "        self.critic = CriticNetwork(input_dims, alpha)\n",
    "        self.memory = PPOMemory(batch_size)\n",
    "\n",
    "    def remember(self, state, action, probs, vals, reward, done):\n",
    "        self.memory.store_memory(state, action, probs, vals, reward, done)\n",
    "\n",
    "    def save_models(self):\n",
    "        print('... saving models ...')\n",
    "        self.actor.save_checkpoint()\n",
    "        self.critic.save_checkpoint()\n",
    "\n",
    "    def load_models(self):\n",
    "        print('... loading models ...')\n",
    "        self.actor.load_checkpoint()\n",
    "        self.critic.load_checkpoint()\n",
    "\n",
    "    def choose_action(self, observation):\n",
    "        state = T.tensor(observation, dtype=T.float).to(self.actor.device)\n",
    "\n",
    "        dist = self.actor(state)\n",
    "\n",
    "        value = self.critic(state)\n",
    "        print(\"Distribution\", dist, value)\n",
    "        action = dist.sample()\n",
    "\n",
    "        probs = T.squeeze(dist.log_prob(action)).item()\n",
    "        action = T.squeeze(action).item()\n",
    "        value = T.squeeze(value).item()\n",
    "\n",
    "        return action, probs, value\n",
    "\n",
    "    def learn(self):\n",
    "        for _ in range(self.n_epochs):\n",
    "            state_arr, action_arr, old_prob_arr, vals_arr,\\\n",
    "            reward_arr, dones_arr, batches = \\\n",
    "                    self.memory.generate_batches()\n",
    "\n",
    "            values = vals_arr\n",
    "            advantage = np.zeros(len(reward_arr), dtype=np.float32)\n",
    "\n",
    "            for t in range(len(reward_arr)-1):\n",
    "                discount = 1\n",
    "                a_t = 0\n",
    "                for k in range(t, len(reward_arr)-1):\n",
    "                    a_t += discount*(reward_arr[k] + self.gamma*values[k+1]*\\\n",
    "                            (1-int(dones_arr[k])) - values[k])\n",
    "                    discount *= self.gamma*self.gae_lambda\n",
    "                advantage[t] = a_t\n",
    "            advantage = T.tensor(advantage).to(self.actor.device)\n",
    "\n",
    "            values = T.tensor(values).to(self.actor.device)\n",
    "            for batch in batches:\n",
    "                states = T.tensor(state_arr[batch], dtype=T.float).to(self.actor.device)\n",
    "                old_probs = T.tensor(old_prob_arr[batch]).to(self.actor.device)\n",
    "                actions = T.tensor(action_arr[batch]).to(self.actor.device)\n",
    "\n",
    "                dist = self.actor(states)\n",
    "                critic_value = self.critic(states)\n",
    "\n",
    "                critic_value = T.squeeze(critic_value)\n",
    "\n",
    "                new_probs = dist.log_prob(actions)\n",
    "                prob_ratio = new_probs.exp() / old_probs.exp()\n",
    "                #prob_ratio = (new_probs - old_probs).exp()\n",
    "                weighted_probs = advantage[batch] * prob_ratio\n",
    "                weighted_clipped_probs = T.clamp(prob_ratio, 1-self.policy_clip,\n",
    "                        1+self.policy_clip)*advantage[batch]\n",
    "                actor_loss = -T.min(weighted_probs, weighted_clipped_probs).mean()\n",
    "\n",
    "                returns = advantage[batch] + values[batch]\n",
    "                critic_loss = (returns-critic_value)**2\n",
    "                critic_loss = critic_loss.mean()\n",
    "\n",
    "                total_loss = actor_loss + 0.5*critic_loss\n",
    "                self.actor.optimizer.zero_grad()\n",
    "                self.critic.optimizer.zero_grad()\n",
    "                total_loss.backward()\n",
    "                self.actor.optimizer.step()\n",
    "                self.critic.optimizer.step()\n",
    "\n",
    "        self.memory.clear_memory()"
   ]
  },
  {
   "cell_type": "code",
   "execution_count": 15,
   "metadata": {
    "id": "1EWvoHT1VXlv",
    "tags": []
   },
   "outputs": [],
   "source": [
    "import numpy as np\n",
    "import matplotlib.pyplot as plt\n",
    "\n",
    "def plot_learning_curve(x, scores, figure_file):\n",
    "    running_avg = np.zeros(len(scores))\n",
    "    for i in range(len(running_avg)):\n",
    "        running_avg[i] = np.mean(scores[max(0, i-100):(i+1)])\n",
    "    plt.plot(x, running_avg)\n",
    "    plt.title('Running average of previous 100 scores')\n",
    "    plt.savefig(figure_file)"
   ]
  },
  {
   "cell_type": "code",
   "execution_count": null,
   "metadata": {
    "colab": {
     "base_uri": "https://localhost:8080/",
     "height": 1000
    },
    "id": "oc-ibKzWVilR",
    "outputId": "a86d5d0c-9882-4d6f-90c3-576509cc96b8",
    "tags": []
   },
   "outputs": [
    {
     "name": "stderr",
     "output_type": "stream",
     "text": [
      "\r",
      "  0%|                                                                                | 0/1000 [00:00<?, ?it/s]"
     ]
    },
    {
     "name": "stdout",
     "output_type": "stream",
     "text": [
      "Distribution Normal(loc: 3340.73291015625, scale: 379.4039611816406) tensor([[1381.5128]], grad_fn=<AddmmBackward0>)\n",
      "Chosen bitrate: 2561.603271484375\n"
     ]
    },
    {
     "name": "stderr",
     "output_type": "stream",
     "text": [
      "[libx264 @ 0x562e37f81000] bitrate not specified\n",
      "[vost#0:0/libx264 @ 0x562e37f80d00] Error initializing output stream: Error while opening encoder for output stream #0:0 - maybe incorrect parameters such as bit_rate, rate, width or height\n",
      "[libx264 @ 0x559800598000] bitrate not specified\n",
      "[vost#0:0/libx264 @ 0x559800597d00] Error initializing output stream: Error while opening encoder for output stream #0:0 - maybe incorrect parameters such as bit_rate, rate, width or height\n",
      "\r",
      "  0%|                                                                      | 1/1000 [00:09<2:32:09,  9.14s/it]"
     ]
    },
    {
     "name": "stdout",
     "output_type": "stream",
     "text": [
      "Quality: 45.288683\n",
      "Distribution Normal(loc: 76.43757629394531, scale: 8.439901351928711) tensor([[-4.5222]], grad_fn=<AddmmBackward0>)\n",
      "Chosen bitrate: 92.37527465820312\n",
      "Quality: 0\n",
      "Distribution Normal(loc: 0.7176554799079895, scale: 0.18971455097198486) tensor([[0.5906]], grad_fn=<AddmmBackward0>)\n",
      "Chosen bitrate: 0.7524707317352295\n",
      "Quality: 0\n",
      "... saving models ...\n",
      "episode 1066681921.mp4 score 234.7 avg score 234.7 time_steps 3 learning_steps 0\n",
      "Distribution Normal(loc: 3497.89892578125, scale: 397.2525634765625) tensor([[1446.6318]], grad_fn=<AddmmBackward0>)\n",
      "Chosen bitrate: 3317.97412109375\n",
      "Quality: 34.732826\n",
      "Distribution Normal(loc: 113.47852325439453, scale: 12.527776718139648) tensor([[-0.6925]], grad_fn=<AddmmBackward0>)\n",
      "Chosen bitrate: 116.56612396240234\n",
      "Quality: 0\n",
      "Distribution Normal(loc: 0.917783260345459, scale: 0.24203495681285858) tensor([[0.7598]], grad_fn=<AddmmBackward0>)\n",
      "Chosen bitrate: 1.1862279176712036\n",
      "Quality: 0\n"
     ]
    },
    {
     "name": "stderr",
     "output_type": "stream",
     "text": [
      "[libx264 @ 0x55b911ebe200] bitrate not specified\n",
      "[vost#0:0/libx264 @ 0x55b911efbac0] Error initializing output stream: Error while opening encoder for output stream #0:0 - maybe incorrect parameters such as bit_rate, rate, width or height\n",
      "[libx264 @ 0x5618ef9bd200] bitrate not specified\n",
      "[vost#0:0/libx264 @ 0x5618ef9faac0] Error initializing output stream: Error while opening encoder for output stream #0:0 - maybe incorrect parameters such as bit_rate, rate, width or height\n",
      "\r",
      "  0%|▏                                                                     | 2/1000 [00:17<2:25:39,  8.76s/it]"
     ]
    },
    {
     "name": "stdout",
     "output_type": "stream",
     "text": [
      "episode 1066678921.mp4 score 205.9 avg score 220.3 time_steps 6 learning_steps 1\n",
      "Distribution Normal(loc: 8148.138671875, scale: 11.52229118347168) tensor([[290.1075]], grad_fn=<AddmmBackward0>)\n",
      "Chosen bitrate: 8148.50927734375\n",
      "Quality: 54.440223\n",
      "Distribution Normal(loc: 479.5610046386719, scale: 3.0843312740325928) tensor([[-257.9195]], grad_fn=<AddmmBackward0>)\n",
      "Chosen bitrate: 485.06549072265625\n"
     ]
    },
    {
     "name": "stderr",
     "output_type": "stream",
     "text": [
      "[libx264 @ 0x55b69cfcb500] bitrate not specified\n",
      "[vost#0:0/libx264 @ 0x55b69cfccac0] Error initializing output stream: Error while opening encoder for output stream #0:0 - maybe incorrect parameters such as bit_rate, rate, width or height\n",
      "\r",
      "  0%|▏                                                                     | 3/1000 [00:25<2:16:12,  8.20s/it]"
     ]
    },
    {
     "name": "stdout",
     "output_type": "stream",
     "text": [
      "Quality: 88.775043\n",
      "Distribution Normal(loc: 103.03589630126953, scale: 0.4351794123649597) tensor([[-11.9383]], grad_fn=<AddmmBackward0>)\n",
      "Chosen bitrate: 103.56434631347656\n",
      "Quality: 0\n",
      "... saving models ...\n",
      "episode 1066688005.mp4 score 413.3 avg score 284.6 time_steps 9 learning_steps 1\n",
      "Distribution Normal(loc: 9957.8564453125, scale: 14.041627883911133) tensor([[355.2920]], grad_fn=<AddmmBackward0>)\n",
      "Chosen bitrate: 9947.1767578125\n",
      "Quality: 55.872767\n",
      "Distribution Normal(loc: 622.399169921875, scale: 3.019639492034912) tensor([[-316.0321]], grad_fn=<AddmmBackward0>)\n",
      "Chosen bitrate: 623.2993774414062\n"
     ]
    },
    {
     "name": "stderr",
     "output_type": "stream",
     "text": [
      "[libx264 @ 0x557bbf7c29c0] bitrate not specified\n",
      "[vost#0:0/libx264 @ 0x557bbf799c00] Error initializing output stream: Error while opening encoder for output stream #0:0 - maybe incorrect parameters such as bit_rate, rate, width or height\n",
      "\r",
      "  0%|▎                                                                     | 4/1000 [00:33<2:18:40,  8.35s/it]"
     ]
    },
    {
     "name": "stdout",
     "output_type": "stream",
     "text": [
      "Quality: 83.650351\n",
      "Distribution Normal(loc: 105.58769989013672, scale: 0.36896783113479614) tensor([[-17.0424]], grad_fn=<AddmmBackward0>)\n",
      "Chosen bitrate: 104.98471069335938\n",
      "Quality: 0\n",
      "... saving models ...\n",
      "episode 1066685137.mp4 score 421.7 avg score 318.9 time_steps 12 learning_steps 2\n",
      "Distribution Normal(loc: 33887.07421875, scale: 103.58560943603516) tensor([[-4765.8384]], grad_fn=<AddmmBackward0>)\n",
      "Chosen bitrate: 34014.3515625\n",
      "Quality: 93.102091\n",
      "Distribution Normal(loc: 10606.4150390625, scale: 51.205772399902344) tensor([[-1953.1719]], grad_fn=<AddmmBackward0>)\n",
      "Chosen bitrate: 10692.21484375\n",
      "Quality: 79.206651\n",
      "Distribution Normal(loc: 3467.05712890625, scale: 17.011526107788086) tensor([[-631.8176]], grad_fn=<AddmmBackward0>)\n",
      "Chosen bitrate: 3490.84765625\n"
     ]
    },
    {
     "name": "stderr",
     "output_type": "stream",
     "text": [
      "\r",
      "  0%|▎                                                                     | 5/1000 [01:18<5:54:49, 21.40s/it]"
     ]
    },
    {
     "name": "stdout",
     "output_type": "stream",
     "text": [
      "Quality: 50.505695\n",
      "... saving models ...\n",
      "episode 1066679386.mp4 score 516.5 avg score 358.4 time_steps 15 learning_steps 2\n",
      "Distribution Normal(loc: 43500.45703125, scale: 132.99537658691406) tensor([[-6118.1680]], grad_fn=<AddmmBackward0>)\n",
      "Chosen bitrate: 43503.99609375\n",
      "Quality: 67.154072\n",
      "Distribution Normal(loc: 15518.3828125, scale: 78.19721221923828) tensor([[-2764.4946]], grad_fn=<AddmmBackward0>)\n",
      "Chosen bitrate: 15443.9072265625\n"
     ]
    }
   ],
   "source": [
    "import random\n",
    "import gym\n",
    "import numpy as np\n",
    "from tqdm import tqdm\n",
    "\n",
    "env = VideoEncodingEnvironment(\"./WUzgd7C1pWA.mp4\")#gym.make('CartPole-v0')\n",
    "N = 6\n",
    "batch_size = 5\n",
    "n_epochs = 5\n",
    "alpha = 0.0003\n",
    "agent = Agent(n_actions=1, batch_size=batch_size,\n",
    "                alpha=alpha, n_epochs=n_epochs,\n",
    "                input_dims=(2051))\n",
    "n_games = 2000\n",
    "\n",
    "figure_file = 'cartpole.png'\n",
    "\n",
    "best_score = env.reward_range[0]\n",
    "score_history = []\n",
    "\n",
    "learn_iters = 0\n",
    "avg_score = 0\n",
    "n_steps = 0\n",
    "\n",
    "\n",
    "data_dir = \"data/\"\n",
    "\n",
    "videos = os.listdir(data_dir)\n",
    "random.Random(0).shuffle(videos)\n",
    "\n",
    "for i in tqdm(videos[:1000]):\n",
    "    observation = env.reset( data_dir + i)\n",
    "    done = False\n",
    "    score = 0\n",
    "    while not done:\n",
    "        action, prob, val = agent.choose_action(observation)\n",
    "        print(\"Chosen bitrate:\", action)\n",
    "        observation_, reward, done, info = env.step(abs(action) * 5)\n",
    "        n_steps += 1\n",
    "        score += reward\n",
    "        agent.remember(observation, action, prob, val, reward, done)\n",
    "        if n_steps % N == 0:\n",
    "            agent.learn()\n",
    "            learn_iters += 1\n",
    "        observation = observation_\n",
    "    score_history.append(score)\n",
    "    avg_score = np.mean(score_history[-100:])\n",
    "\n",
    "    if avg_score > best_score:\n",
    "        best_score = avg_score\n",
    "        agent.save_models()\n",
    "\n",
    "    print('episode', i, 'score %.1f' % score, 'avg score %.1f' % avg_score,\n",
    "            'time_steps', n_steps, 'learning_steps', learn_iters)\n",
    "x = [i+1 for i in range(len(score_history))]\n",
    "plot_learning_curve(x, score_history, figure_file)\n"
   ]
  },
  {
   "cell_type": "code",
   "execution_count": null,
   "metadata": {
    "id": "Imy77RpPAdsE"
   },
   "outputs": [],
   "source": [
    "Normal(100,20).sample()"
   ]
  },
  {
   "cell_type": "code",
   "execution_count": null,
   "metadata": {
    "id": "QPODnDnjbId1"
   },
   "outputs": [],
   "source": []
  },
  {
   "cell_type": "code",
   "execution_count": null,
   "metadata": {},
   "outputs": [],
   "source": []
  },
  {
   "cell_type": "code",
   "execution_count": null,
   "metadata": {},
   "outputs": [],
   "source": []
  }
 ],
 "metadata": {
  "colab": {
   "provenance": []
  },
  "kernelspec": {
   "display_name": "Python 3 (ipykernel)",
   "language": "python",
   "name": "python3"
  },
  "language_info": {
   "codemirror_mode": {
    "name": "ipython",
    "version": 3
   },
   "file_extension": ".py",
   "mimetype": "text/x-python",
   "name": "python",
   "nbconvert_exporter": "python",
   "pygments_lexer": "ipython3",
   "version": "3.11.3"
  }
 },
 "nbformat": 4,
 "nbformat_minor": 4
}
